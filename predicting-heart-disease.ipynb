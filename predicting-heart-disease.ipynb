{
 "cells": [
  {
   "cell_type": "code",
   "execution_count": 1,
   "id": "1a2009ac",
   "metadata": {
    "_cell_guid": "b1076dfc-b9ad-4769-8c92-a6c4dae69d19",
    "_uuid": "8f2839f25d086af736a60e9eeb907d3b93b6e0e5",
    "execution": {
     "iopub.execute_input": "2021-09-04T15:07:07.841437Z",
     "iopub.status.busy": "2021-09-04T15:07:07.840456Z",
     "iopub.status.idle": "2021-09-04T15:07:07.852826Z",
     "shell.execute_reply": "2021-09-04T15:07:07.851832Z",
     "shell.execute_reply.started": "2021-09-04T13:39:32.227968Z"
    },
    "papermill": {
     "duration": 0.061726,
     "end_time": "2021-09-04T15:07:07.853071",
     "exception": false,
     "start_time": "2021-09-04T15:07:07.791345",
     "status": "completed"
    },
    "tags": []
   },
   "outputs": [
    {
     "name": "stdout",
     "output_type": "stream",
     "text": [
      "/kaggle/input/heart-disease-uci/heart.csv\n"
     ]
    }
   ],
   "source": [
    "# This Python 3 environment comes with many helpful analytics libraries installed\n",
    "# It is defined by the kaggle/python Docker image: https://github.com/kaggle/docker-python\n",
    "# For example, here's several helpful packages to load\n",
    "\n",
    "import numpy as np # linear algebra\n",
    "import pandas as pd # data processing, CSV file I/O (e.g. pd.read_csv)\n",
    "\n",
    "# Input data files are available in the read-only \"../input/\" directory\n",
    "# For example, running this (by clicking run or pressing Shift+Enter) will list all files under the input directory\n",
    "\n",
    "import os\n",
    "for dirname, _, filenames in os.walk('/kaggle/input'):\n",
    "    for filename in filenames:\n",
    "        print(os.path.join(dirname, filename))\n",
    "\n",
    "# You can write up to 20GB to the current directory (/kaggle/working/) that gets preserved as output when you create a version using \"Save & Run All\" \n",
    "# You can also write temporary files to /kaggle/temp/, but they won't be saved outside of the current session"
   ]
  },
  {
   "cell_type": "markdown",
   "id": "2e39415b",
   "metadata": {
    "papermill": {
     "duration": 0.033502,
     "end_time": "2021-09-04T15:07:07.922734",
     "exception": false,
     "start_time": "2021-09-04T15:07:07.889232",
     "status": "completed"
    },
    "tags": []
   },
   "source": [
    "# IMPORTING ALL THE USEFUL AND IMPORTANT LIBRARIES"
   ]
  },
  {
   "cell_type": "code",
   "execution_count": 2,
   "id": "14d73f9b",
   "metadata": {
    "execution": {
     "iopub.execute_input": "2021-09-04T15:07:07.996971Z",
     "iopub.status.busy": "2021-09-04T15:07:07.996200Z",
     "iopub.status.idle": "2021-09-04T15:07:14.542549Z",
     "shell.execute_reply": "2021-09-04T15:07:14.541912Z",
     "shell.execute_reply.started": "2021-09-04T13:42:39.218582Z"
    },
    "papermill": {
     "duration": 6.588122,
     "end_time": "2021-09-04T15:07:14.542714",
     "exception": false,
     "start_time": "2021-09-04T15:07:07.954592",
     "status": "completed"
    },
    "tags": []
   },
   "outputs": [],
   "source": [
    "import numpy as np\n",
    "import pandas as pd\n",
    "from random import randint\n",
    "from sklearn.utils import shuffle\n",
    "from sklearn.preprocessing import MinMaxScaler\n",
    "import tensorflow as tf\n",
    "from tensorflow import keras\n",
    "from tensorflow.keras.models import Sequential\n",
    "from tensorflow.keras.layers import Activation, Dense\n",
    "from tensorflow.keras.optimizers import Adam\n",
    "from tensorflow.keras.metrics import categorical_crossentropy\n",
    "%matplotlib inline\n",
    "from sklearn.metrics import confusion_matrix\n",
    "import itertools\n",
    "import matplotlib.pyplot as plt\n",
    "from time import time"
   ]
  },
  {
   "cell_type": "markdown",
   "id": "4107f523",
   "metadata": {
    "papermill": {
     "duration": 0.03141,
     "end_time": "2021-09-04T15:07:14.607518",
     "exception": false,
     "start_time": "2021-09-04T15:07:14.576108",
     "status": "completed"
    },
    "tags": []
   },
   "source": [
    "![](https://synrad.com.au/wp-content/uploads/2019/12/Heart.jpg)"
   ]
  },
  {
   "cell_type": "markdown",
   "id": "dfe28e27",
   "metadata": {
    "papermill": {
     "duration": 0.032644,
     "end_time": "2021-09-04T15:07:14.672192",
     "exception": false,
     "start_time": "2021-09-04T15:07:14.639548",
     "status": "completed"
    },
    "tags": []
   },
   "source": [
    "# LOADING THE DATASET"
   ]
  },
  {
   "cell_type": "code",
   "execution_count": 3,
   "id": "3d353556",
   "metadata": {
    "execution": {
     "iopub.execute_input": "2021-09-04T15:07:14.743456Z",
     "iopub.status.busy": "2021-09-04T15:07:14.742740Z",
     "iopub.status.idle": "2021-09-04T15:07:14.758722Z",
     "shell.execute_reply": "2021-09-04T15:07:14.758140Z",
     "shell.execute_reply.started": "2021-09-04T13:45:02.498477Z"
    },
    "papermill": {
     "duration": 0.053316,
     "end_time": "2021-09-04T15:07:14.758892",
     "exception": false,
     "start_time": "2021-09-04T15:07:14.705576",
     "status": "completed"
    },
    "tags": []
   },
   "outputs": [],
   "source": [
    "heart_data = pd.read_csv('/kaggle/input/heart-disease-uci/heart.csv')"
   ]
  },
  {
   "cell_type": "code",
   "execution_count": 4,
   "id": "1fa4b623",
   "metadata": {
    "execution": {
     "iopub.execute_input": "2021-09-04T15:07:14.835594Z",
     "iopub.status.busy": "2021-09-04T15:07:14.834822Z",
     "iopub.status.idle": "2021-09-04T15:07:14.856963Z",
     "shell.execute_reply": "2021-09-04T15:07:14.857475Z",
     "shell.execute_reply.started": "2021-09-04T13:45:17.462573Z"
    },
    "papermill": {
     "duration": 0.066175,
     "end_time": "2021-09-04T15:07:14.857666",
     "exception": false,
     "start_time": "2021-09-04T15:07:14.791491",
     "status": "completed"
    },
    "tags": []
   },
   "outputs": [
    {
     "data": {
      "text/html": [
       "<div>\n",
       "<style scoped>\n",
       "    .dataframe tbody tr th:only-of-type {\n",
       "        vertical-align: middle;\n",
       "    }\n",
       "\n",
       "    .dataframe tbody tr th {\n",
       "        vertical-align: top;\n",
       "    }\n",
       "\n",
       "    .dataframe thead th {\n",
       "        text-align: right;\n",
       "    }\n",
       "</style>\n",
       "<table border=\"1\" class=\"dataframe\">\n",
       "  <thead>\n",
       "    <tr style=\"text-align: right;\">\n",
       "      <th></th>\n",
       "      <th>age</th>\n",
       "      <th>sex</th>\n",
       "      <th>cp</th>\n",
       "      <th>trestbps</th>\n",
       "      <th>chol</th>\n",
       "      <th>fbs</th>\n",
       "      <th>restecg</th>\n",
       "      <th>thalach</th>\n",
       "      <th>exang</th>\n",
       "      <th>oldpeak</th>\n",
       "      <th>slope</th>\n",
       "      <th>ca</th>\n",
       "      <th>thal</th>\n",
       "      <th>target</th>\n",
       "    </tr>\n",
       "  </thead>\n",
       "  <tbody>\n",
       "    <tr>\n",
       "      <th>0</th>\n",
       "      <td>63</td>\n",
       "      <td>1</td>\n",
       "      <td>3</td>\n",
       "      <td>145</td>\n",
       "      <td>233</td>\n",
       "      <td>1</td>\n",
       "      <td>0</td>\n",
       "      <td>150</td>\n",
       "      <td>0</td>\n",
       "      <td>2.3</td>\n",
       "      <td>0</td>\n",
       "      <td>0</td>\n",
       "      <td>1</td>\n",
       "      <td>1</td>\n",
       "    </tr>\n",
       "    <tr>\n",
       "      <th>1</th>\n",
       "      <td>37</td>\n",
       "      <td>1</td>\n",
       "      <td>2</td>\n",
       "      <td>130</td>\n",
       "      <td>250</td>\n",
       "      <td>0</td>\n",
       "      <td>1</td>\n",
       "      <td>187</td>\n",
       "      <td>0</td>\n",
       "      <td>3.5</td>\n",
       "      <td>0</td>\n",
       "      <td>0</td>\n",
       "      <td>2</td>\n",
       "      <td>1</td>\n",
       "    </tr>\n",
       "    <tr>\n",
       "      <th>2</th>\n",
       "      <td>41</td>\n",
       "      <td>0</td>\n",
       "      <td>1</td>\n",
       "      <td>130</td>\n",
       "      <td>204</td>\n",
       "      <td>0</td>\n",
       "      <td>0</td>\n",
       "      <td>172</td>\n",
       "      <td>0</td>\n",
       "      <td>1.4</td>\n",
       "      <td>2</td>\n",
       "      <td>0</td>\n",
       "      <td>2</td>\n",
       "      <td>1</td>\n",
       "    </tr>\n",
       "    <tr>\n",
       "      <th>3</th>\n",
       "      <td>56</td>\n",
       "      <td>1</td>\n",
       "      <td>1</td>\n",
       "      <td>120</td>\n",
       "      <td>236</td>\n",
       "      <td>0</td>\n",
       "      <td>1</td>\n",
       "      <td>178</td>\n",
       "      <td>0</td>\n",
       "      <td>0.8</td>\n",
       "      <td>2</td>\n",
       "      <td>0</td>\n",
       "      <td>2</td>\n",
       "      <td>1</td>\n",
       "    </tr>\n",
       "    <tr>\n",
       "      <th>4</th>\n",
       "      <td>57</td>\n",
       "      <td>0</td>\n",
       "      <td>0</td>\n",
       "      <td>120</td>\n",
       "      <td>354</td>\n",
       "      <td>0</td>\n",
       "      <td>1</td>\n",
       "      <td>163</td>\n",
       "      <td>1</td>\n",
       "      <td>0.6</td>\n",
       "      <td>2</td>\n",
       "      <td>0</td>\n",
       "      <td>2</td>\n",
       "      <td>1</td>\n",
       "    </tr>\n",
       "  </tbody>\n",
       "</table>\n",
       "</div>"
      ],
      "text/plain": [
       "   age  sex  cp  trestbps  chol  fbs  restecg  thalach  exang  oldpeak  slope  \\\n",
       "0   63    1   3       145   233    1        0      150      0      2.3      0   \n",
       "1   37    1   2       130   250    0        1      187      0      3.5      0   \n",
       "2   41    0   1       130   204    0        0      172      0      1.4      2   \n",
       "3   56    1   1       120   236    0        1      178      0      0.8      2   \n",
       "4   57    0   0       120   354    0        1      163      1      0.6      2   \n",
       "\n",
       "   ca  thal  target  \n",
       "0   0     1       1  \n",
       "1   0     2       1  \n",
       "2   0     2       1  \n",
       "3   0     2       1  \n",
       "4   0     2       1  "
      ]
     },
     "execution_count": 4,
     "metadata": {},
     "output_type": "execute_result"
    }
   ],
   "source": [
    "heart_data.head() #displaying head of the .csv file"
   ]
  },
  {
   "cell_type": "markdown",
   "id": "aee97715",
   "metadata": {
    "papermill": {
     "duration": 0.033176,
     "end_time": "2021-09-04T15:07:14.924241",
     "exception": false,
     "start_time": "2021-09-04T15:07:14.891065",
     "status": "completed"
    },
    "tags": []
   },
   "source": [
    "# SOMETHING ABOUT THE DATA\n",
    "age: The person's age in years\n",
    "\n",
    "sex: The person's sex (1 = male, 0 = female)\n",
    "\n",
    "cp: The chest pain experienced (Value 1: typical angina, Value 2: atypical angina, Value 3: non-anginal pain, Value 4: asymptomatic)\n",
    "\n",
    "trestbps: The person's resting blood pressure (mm Hg on admission to the hospital)\n",
    "\n",
    "chol: The person's cholesterol measurement in mg/dl\n",
    "\n",
    "fbs: The person's fasting blood sugar (> 120 mg/dl, 1 = true; 0 = false)\n",
    "\n",
    "restecg: Resting electrocardiographic measurement (0 = normal, 1 = having ST-T wave abnormality, 2 = showing probable or definite left ventricular hypertrophy by Estes' criteria)\n",
    "\n",
    "thalach: The person's maximum heart rate achieved\n",
    "\n",
    "exang: Exercise induced angina (1 = yes; 0 = no)\n",
    "\n",
    "oldpeak: ST depression induced by exercise relative to rest ('ST' relates to positions on the ECG plot. See more here)\n",
    "\n",
    "slope: the slope of the peak exercise ST segment (Value 1: upsloping, Value 2: flat, Value 3: downsloping)\n",
    "\n",
    "ca: The number of major vessels (0-3)\n",
    "\n",
    "thal: A blood disorder called thalassemia (3 = normal; 6 = fixed defect; 7 = reversable defect)\n",
    "\n",
    "target: Heart disease (0 = no, 1 = yes)"
   ]
  },
  {
   "cell_type": "code",
   "execution_count": 5,
   "id": "1cd44973",
   "metadata": {
    "execution": {
     "iopub.execute_input": "2021-09-04T15:07:15.003595Z",
     "iopub.status.busy": "2021-09-04T15:07:15.002872Z",
     "iopub.status.idle": "2021-09-04T15:07:15.055166Z",
     "shell.execute_reply": "2021-09-04T15:07:15.055635Z",
     "shell.execute_reply.started": "2021-09-04T13:45:32.442433Z"
    },
    "papermill": {
     "duration": 0.09788,
     "end_time": "2021-09-04T15:07:15.055820",
     "exception": false,
     "start_time": "2021-09-04T15:07:14.957940",
     "status": "completed"
    },
    "tags": []
   },
   "outputs": [
    {
     "data": {
      "text/html": [
       "<div>\n",
       "<style scoped>\n",
       "    .dataframe tbody tr th:only-of-type {\n",
       "        vertical-align: middle;\n",
       "    }\n",
       "\n",
       "    .dataframe tbody tr th {\n",
       "        vertical-align: top;\n",
       "    }\n",
       "\n",
       "    .dataframe thead th {\n",
       "        text-align: right;\n",
       "    }\n",
       "</style>\n",
       "<table border=\"1\" class=\"dataframe\">\n",
       "  <thead>\n",
       "    <tr style=\"text-align: right;\">\n",
       "      <th></th>\n",
       "      <th>age</th>\n",
       "      <th>sex</th>\n",
       "      <th>cp</th>\n",
       "      <th>trestbps</th>\n",
       "      <th>chol</th>\n",
       "      <th>fbs</th>\n",
       "      <th>restecg</th>\n",
       "      <th>thalach</th>\n",
       "      <th>exang</th>\n",
       "      <th>oldpeak</th>\n",
       "      <th>slope</th>\n",
       "      <th>ca</th>\n",
       "      <th>thal</th>\n",
       "      <th>target</th>\n",
       "    </tr>\n",
       "  </thead>\n",
       "  <tbody>\n",
       "    <tr>\n",
       "      <th>count</th>\n",
       "      <td>303.000000</td>\n",
       "      <td>303.000000</td>\n",
       "      <td>303.000000</td>\n",
       "      <td>303.000000</td>\n",
       "      <td>303.000000</td>\n",
       "      <td>303.000000</td>\n",
       "      <td>303.000000</td>\n",
       "      <td>303.000000</td>\n",
       "      <td>303.000000</td>\n",
       "      <td>303.000000</td>\n",
       "      <td>303.000000</td>\n",
       "      <td>303.000000</td>\n",
       "      <td>303.000000</td>\n",
       "      <td>303.000000</td>\n",
       "    </tr>\n",
       "    <tr>\n",
       "      <th>mean</th>\n",
       "      <td>54.366337</td>\n",
       "      <td>0.683168</td>\n",
       "      <td>0.966997</td>\n",
       "      <td>131.623762</td>\n",
       "      <td>246.264026</td>\n",
       "      <td>0.148515</td>\n",
       "      <td>0.528053</td>\n",
       "      <td>149.646865</td>\n",
       "      <td>0.326733</td>\n",
       "      <td>1.039604</td>\n",
       "      <td>1.399340</td>\n",
       "      <td>0.729373</td>\n",
       "      <td>2.313531</td>\n",
       "      <td>0.544554</td>\n",
       "    </tr>\n",
       "    <tr>\n",
       "      <th>std</th>\n",
       "      <td>9.082101</td>\n",
       "      <td>0.466011</td>\n",
       "      <td>1.032052</td>\n",
       "      <td>17.538143</td>\n",
       "      <td>51.830751</td>\n",
       "      <td>0.356198</td>\n",
       "      <td>0.525860</td>\n",
       "      <td>22.905161</td>\n",
       "      <td>0.469794</td>\n",
       "      <td>1.161075</td>\n",
       "      <td>0.616226</td>\n",
       "      <td>1.022606</td>\n",
       "      <td>0.612277</td>\n",
       "      <td>0.498835</td>\n",
       "    </tr>\n",
       "    <tr>\n",
       "      <th>min</th>\n",
       "      <td>29.000000</td>\n",
       "      <td>0.000000</td>\n",
       "      <td>0.000000</td>\n",
       "      <td>94.000000</td>\n",
       "      <td>126.000000</td>\n",
       "      <td>0.000000</td>\n",
       "      <td>0.000000</td>\n",
       "      <td>71.000000</td>\n",
       "      <td>0.000000</td>\n",
       "      <td>0.000000</td>\n",
       "      <td>0.000000</td>\n",
       "      <td>0.000000</td>\n",
       "      <td>0.000000</td>\n",
       "      <td>0.000000</td>\n",
       "    </tr>\n",
       "    <tr>\n",
       "      <th>25%</th>\n",
       "      <td>47.500000</td>\n",
       "      <td>0.000000</td>\n",
       "      <td>0.000000</td>\n",
       "      <td>120.000000</td>\n",
       "      <td>211.000000</td>\n",
       "      <td>0.000000</td>\n",
       "      <td>0.000000</td>\n",
       "      <td>133.500000</td>\n",
       "      <td>0.000000</td>\n",
       "      <td>0.000000</td>\n",
       "      <td>1.000000</td>\n",
       "      <td>0.000000</td>\n",
       "      <td>2.000000</td>\n",
       "      <td>0.000000</td>\n",
       "    </tr>\n",
       "    <tr>\n",
       "      <th>50%</th>\n",
       "      <td>55.000000</td>\n",
       "      <td>1.000000</td>\n",
       "      <td>1.000000</td>\n",
       "      <td>130.000000</td>\n",
       "      <td>240.000000</td>\n",
       "      <td>0.000000</td>\n",
       "      <td>1.000000</td>\n",
       "      <td>153.000000</td>\n",
       "      <td>0.000000</td>\n",
       "      <td>0.800000</td>\n",
       "      <td>1.000000</td>\n",
       "      <td>0.000000</td>\n",
       "      <td>2.000000</td>\n",
       "      <td>1.000000</td>\n",
       "    </tr>\n",
       "    <tr>\n",
       "      <th>75%</th>\n",
       "      <td>61.000000</td>\n",
       "      <td>1.000000</td>\n",
       "      <td>2.000000</td>\n",
       "      <td>140.000000</td>\n",
       "      <td>274.500000</td>\n",
       "      <td>0.000000</td>\n",
       "      <td>1.000000</td>\n",
       "      <td>166.000000</td>\n",
       "      <td>1.000000</td>\n",
       "      <td>1.600000</td>\n",
       "      <td>2.000000</td>\n",
       "      <td>1.000000</td>\n",
       "      <td>3.000000</td>\n",
       "      <td>1.000000</td>\n",
       "    </tr>\n",
       "    <tr>\n",
       "      <th>max</th>\n",
       "      <td>77.000000</td>\n",
       "      <td>1.000000</td>\n",
       "      <td>3.000000</td>\n",
       "      <td>200.000000</td>\n",
       "      <td>564.000000</td>\n",
       "      <td>1.000000</td>\n",
       "      <td>2.000000</td>\n",
       "      <td>202.000000</td>\n",
       "      <td>1.000000</td>\n",
       "      <td>6.200000</td>\n",
       "      <td>2.000000</td>\n",
       "      <td>4.000000</td>\n",
       "      <td>3.000000</td>\n",
       "      <td>1.000000</td>\n",
       "    </tr>\n",
       "  </tbody>\n",
       "</table>\n",
       "</div>"
      ],
      "text/plain": [
       "              age         sex          cp    trestbps        chol         fbs  \\\n",
       "count  303.000000  303.000000  303.000000  303.000000  303.000000  303.000000   \n",
       "mean    54.366337    0.683168    0.966997  131.623762  246.264026    0.148515   \n",
       "std      9.082101    0.466011    1.032052   17.538143   51.830751    0.356198   \n",
       "min     29.000000    0.000000    0.000000   94.000000  126.000000    0.000000   \n",
       "25%     47.500000    0.000000    0.000000  120.000000  211.000000    0.000000   \n",
       "50%     55.000000    1.000000    1.000000  130.000000  240.000000    0.000000   \n",
       "75%     61.000000    1.000000    2.000000  140.000000  274.500000    0.000000   \n",
       "max     77.000000    1.000000    3.000000  200.000000  564.000000    1.000000   \n",
       "\n",
       "          restecg     thalach       exang     oldpeak       slope          ca  \\\n",
       "count  303.000000  303.000000  303.000000  303.000000  303.000000  303.000000   \n",
       "mean     0.528053  149.646865    0.326733    1.039604    1.399340    0.729373   \n",
       "std      0.525860   22.905161    0.469794    1.161075    0.616226    1.022606   \n",
       "min      0.000000   71.000000    0.000000    0.000000    0.000000    0.000000   \n",
       "25%      0.000000  133.500000    0.000000    0.000000    1.000000    0.000000   \n",
       "50%      1.000000  153.000000    0.000000    0.800000    1.000000    0.000000   \n",
       "75%      1.000000  166.000000    1.000000    1.600000    2.000000    1.000000   \n",
       "max      2.000000  202.000000    1.000000    6.200000    2.000000    4.000000   \n",
       "\n",
       "             thal      target  \n",
       "count  303.000000  303.000000  \n",
       "mean     2.313531    0.544554  \n",
       "std      0.612277    0.498835  \n",
       "min      0.000000    0.000000  \n",
       "25%      2.000000    0.000000  \n",
       "50%      2.000000    1.000000  \n",
       "75%      3.000000    1.000000  \n",
       "max      3.000000    1.000000  "
      ]
     },
     "execution_count": 5,
     "metadata": {},
     "output_type": "execute_result"
    }
   ],
   "source": [
    "heart_data.describe() #some essential details about the dataset"
   ]
  },
  {
   "cell_type": "code",
   "execution_count": 6,
   "id": "7b46f09c",
   "metadata": {
    "execution": {
     "iopub.execute_input": "2021-09-04T15:07:15.131972Z",
     "iopub.status.busy": "2021-09-04T15:07:15.131095Z",
     "iopub.status.idle": "2021-09-04T15:07:15.136421Z",
     "shell.execute_reply": "2021-09-04T15:07:15.135754Z",
     "shell.execute_reply.started": "2021-09-04T13:45:43.76855Z"
    },
    "papermill": {
     "duration": 0.047565,
     "end_time": "2021-09-04T15:07:15.136577",
     "exception": false,
     "start_time": "2021-09-04T15:07:15.089012",
     "status": "completed"
    },
    "tags": []
   },
   "outputs": [
    {
     "data": {
      "text/plain": [
       "age         0\n",
       "sex         0\n",
       "cp          0\n",
       "trestbps    0\n",
       "chol        0\n",
       "fbs         0\n",
       "restecg     0\n",
       "thalach     0\n",
       "exang       0\n",
       "oldpeak     0\n",
       "slope       0\n",
       "ca          0\n",
       "thal        0\n",
       "target      0\n",
       "dtype: int64"
      ]
     },
     "execution_count": 6,
     "metadata": {},
     "output_type": "execute_result"
    }
   ],
   "source": [
    "heart_data.isnull().sum() #checking whether any missing values are present or not"
   ]
  },
  {
   "cell_type": "code",
   "execution_count": 7,
   "id": "d75d8444",
   "metadata": {
    "execution": {
     "iopub.execute_input": "2021-09-04T15:07:15.209275Z",
     "iopub.status.busy": "2021-09-04T15:07:15.208394Z",
     "iopub.status.idle": "2021-09-04T15:07:15.211896Z",
     "shell.execute_reply": "2021-09-04T15:07:15.211403Z",
     "shell.execute_reply.started": "2021-09-04T13:45:57.247847Z"
    },
    "papermill": {
     "duration": 0.04216,
     "end_time": "2021-09-04T15:07:15.212074",
     "exception": false,
     "start_time": "2021-09-04T15:07:15.169914",
     "status": "completed"
    },
    "tags": []
   },
   "outputs": [],
   "source": [
    "#Renaming all the columns of the dataset to convenient and understandable names\n",
    "\n",
    "heart_data.columns = ['age', 'sex', 'chest_pain_type', 'resting_blood_pressure', \n",
    "              'cholesterol', 'fasting_blood_sugar', 'rest_ecg', 'max_heart_rate_achieved', \n",
    "              'exercise_induced_angina', 'st_depression', \n",
    "              'st_slope', 'num_major_vessels', 'thalassemia', 'target']"
   ]
  },
  {
   "cell_type": "code",
   "execution_count": 8,
   "id": "08b115f1",
   "metadata": {
    "execution": {
     "iopub.execute_input": "2021-09-04T15:07:15.294652Z",
     "iopub.status.busy": "2021-09-04T15:07:15.293685Z",
     "iopub.status.idle": "2021-09-04T15:07:15.299315Z",
     "shell.execute_reply": "2021-09-04T15:07:15.298685Z",
     "shell.execute_reply.started": "2021-09-04T13:46:12.459002Z"
    },
    "papermill": {
     "duration": 0.054255,
     "end_time": "2021-09-04T15:07:15.299452",
     "exception": false,
     "start_time": "2021-09-04T15:07:15.245197",
     "status": "completed"
    },
    "tags": []
   },
   "outputs": [
    {
     "data": {
      "text/html": [
       "<div>\n",
       "<style scoped>\n",
       "    .dataframe tbody tr th:only-of-type {\n",
       "        vertical-align: middle;\n",
       "    }\n",
       "\n",
       "    .dataframe tbody tr th {\n",
       "        vertical-align: top;\n",
       "    }\n",
       "\n",
       "    .dataframe thead th {\n",
       "        text-align: right;\n",
       "    }\n",
       "</style>\n",
       "<table border=\"1\" class=\"dataframe\">\n",
       "  <thead>\n",
       "    <tr style=\"text-align: right;\">\n",
       "      <th></th>\n",
       "      <th>age</th>\n",
       "      <th>sex</th>\n",
       "      <th>chest_pain_type</th>\n",
       "      <th>resting_blood_pressure</th>\n",
       "      <th>cholesterol</th>\n",
       "      <th>fasting_blood_sugar</th>\n",
       "      <th>rest_ecg</th>\n",
       "      <th>max_heart_rate_achieved</th>\n",
       "      <th>exercise_induced_angina</th>\n",
       "      <th>st_depression</th>\n",
       "      <th>st_slope</th>\n",
       "      <th>num_major_vessels</th>\n",
       "      <th>thalassemia</th>\n",
       "      <th>target</th>\n",
       "    </tr>\n",
       "  </thead>\n",
       "  <tbody>\n",
       "    <tr>\n",
       "      <th>0</th>\n",
       "      <td>63</td>\n",
       "      <td>1</td>\n",
       "      <td>3</td>\n",
       "      <td>145</td>\n",
       "      <td>233</td>\n",
       "      <td>1</td>\n",
       "      <td>0</td>\n",
       "      <td>150</td>\n",
       "      <td>0</td>\n",
       "      <td>2.3</td>\n",
       "      <td>0</td>\n",
       "      <td>0</td>\n",
       "      <td>1</td>\n",
       "      <td>1</td>\n",
       "    </tr>\n",
       "    <tr>\n",
       "      <th>1</th>\n",
       "      <td>37</td>\n",
       "      <td>1</td>\n",
       "      <td>2</td>\n",
       "      <td>130</td>\n",
       "      <td>250</td>\n",
       "      <td>0</td>\n",
       "      <td>1</td>\n",
       "      <td>187</td>\n",
       "      <td>0</td>\n",
       "      <td>3.5</td>\n",
       "      <td>0</td>\n",
       "      <td>0</td>\n",
       "      <td>2</td>\n",
       "      <td>1</td>\n",
       "    </tr>\n",
       "    <tr>\n",
       "      <th>2</th>\n",
       "      <td>41</td>\n",
       "      <td>0</td>\n",
       "      <td>1</td>\n",
       "      <td>130</td>\n",
       "      <td>204</td>\n",
       "      <td>0</td>\n",
       "      <td>0</td>\n",
       "      <td>172</td>\n",
       "      <td>0</td>\n",
       "      <td>1.4</td>\n",
       "      <td>2</td>\n",
       "      <td>0</td>\n",
       "      <td>2</td>\n",
       "      <td>1</td>\n",
       "    </tr>\n",
       "    <tr>\n",
       "      <th>3</th>\n",
       "      <td>56</td>\n",
       "      <td>1</td>\n",
       "      <td>1</td>\n",
       "      <td>120</td>\n",
       "      <td>236</td>\n",
       "      <td>0</td>\n",
       "      <td>1</td>\n",
       "      <td>178</td>\n",
       "      <td>0</td>\n",
       "      <td>0.8</td>\n",
       "      <td>2</td>\n",
       "      <td>0</td>\n",
       "      <td>2</td>\n",
       "      <td>1</td>\n",
       "    </tr>\n",
       "    <tr>\n",
       "      <th>4</th>\n",
       "      <td>57</td>\n",
       "      <td>0</td>\n",
       "      <td>0</td>\n",
       "      <td>120</td>\n",
       "      <td>354</td>\n",
       "      <td>0</td>\n",
       "      <td>1</td>\n",
       "      <td>163</td>\n",
       "      <td>1</td>\n",
       "      <td>0.6</td>\n",
       "      <td>2</td>\n",
       "      <td>0</td>\n",
       "      <td>2</td>\n",
       "      <td>1</td>\n",
       "    </tr>\n",
       "  </tbody>\n",
       "</table>\n",
       "</div>"
      ],
      "text/plain": [
       "   age  sex  chest_pain_type  resting_blood_pressure  cholesterol  \\\n",
       "0   63    1                3                     145          233   \n",
       "1   37    1                2                     130          250   \n",
       "2   41    0                1                     130          204   \n",
       "3   56    1                1                     120          236   \n",
       "4   57    0                0                     120          354   \n",
       "\n",
       "   fasting_blood_sugar  rest_ecg  max_heart_rate_achieved  \\\n",
       "0                    1         0                      150   \n",
       "1                    0         1                      187   \n",
       "2                    0         0                      172   \n",
       "3                    0         1                      178   \n",
       "4                    0         1                      163   \n",
       "\n",
       "   exercise_induced_angina  st_depression  st_slope  num_major_vessels  \\\n",
       "0                        0            2.3         0                  0   \n",
       "1                        0            3.5         0                  0   \n",
       "2                        0            1.4         2                  0   \n",
       "3                        0            0.8         2                  0   \n",
       "4                        1            0.6         2                  0   \n",
       "\n",
       "   thalassemia  target  \n",
       "0            1       1  \n",
       "1            2       1  \n",
       "2            2       1  \n",
       "3            2       1  \n",
       "4            2       1  "
      ]
     },
     "execution_count": 8,
     "metadata": {},
     "output_type": "execute_result"
    }
   ],
   "source": [
    "heart_data.head() #displaying head of the .csv file"
   ]
  },
  {
   "cell_type": "code",
   "execution_count": 9,
   "id": "0d1524ae",
   "metadata": {
    "execution": {
     "iopub.execute_input": "2021-09-04T15:07:15.378798Z",
     "iopub.status.busy": "2021-09-04T15:07:15.378134Z",
     "iopub.status.idle": "2021-09-04T15:07:15.450834Z",
     "shell.execute_reply": "2021-09-04T15:07:15.450164Z",
     "shell.execute_reply.started": "2021-09-04T13:46:30.883465Z"
    },
    "papermill": {
     "duration": 0.117755,
     "end_time": "2021-09-04T15:07:15.451009",
     "exception": false,
     "start_time": "2021-09-04T15:07:15.333254",
     "status": "completed"
    },
    "tags": []
   },
   "outputs": [
    {
     "name": "stderr",
     "output_type": "stream",
     "text": [
      "/opt/conda/lib/python3.7/site-packages/ipykernel_launcher.py:3: SettingWithCopyWarning: \n",
      "A value is trying to be set on a copy of a slice from a DataFrame\n",
      "\n",
      "See the caveats in the documentation: https://pandas.pydata.org/pandas-docs/stable/user_guide/indexing.html#returning-a-view-versus-a-copy\n",
      "  This is separate from the ipykernel package so we can avoid doing imports until\n",
      "/opt/conda/lib/python3.7/site-packages/ipykernel_launcher.py:6: SettingWithCopyWarning: \n",
      "A value is trying to be set on a copy of a slice from a DataFrame\n",
      "\n",
      "See the caveats in the documentation: https://pandas.pydata.org/pandas-docs/stable/user_guide/indexing.html#returning-a-view-versus-a-copy\n",
      "  \n",
      "/opt/conda/lib/python3.7/site-packages/ipykernel_launcher.py:11: SettingWithCopyWarning: \n",
      "A value is trying to be set on a copy of a slice from a DataFrame\n",
      "\n",
      "See the caveats in the documentation: https://pandas.pydata.org/pandas-docs/stable/user_guide/indexing.html#returning-a-view-versus-a-copy\n",
      "  # This is added back by InteractiveShellApp.init_path()\n",
      "/opt/conda/lib/python3.7/site-packages/ipykernel_launcher.py:14: SettingWithCopyWarning: \n",
      "A value is trying to be set on a copy of a slice from a DataFrame\n",
      "\n",
      "See the caveats in the documentation: https://pandas.pydata.org/pandas-docs/stable/user_guide/indexing.html#returning-a-view-versus-a-copy\n",
      "  \n",
      "/opt/conda/lib/python3.7/site-packages/ipykernel_launcher.py:18: SettingWithCopyWarning: \n",
      "A value is trying to be set on a copy of a slice from a DataFrame\n",
      "\n",
      "See the caveats in the documentation: https://pandas.pydata.org/pandas-docs/stable/user_guide/indexing.html#returning-a-view-versus-a-copy\n",
      "/opt/conda/lib/python3.7/site-packages/ipykernel_launcher.py:21: SettingWithCopyWarning: \n",
      "A value is trying to be set on a copy of a slice from a DataFrame\n",
      "\n",
      "See the caveats in the documentation: https://pandas.pydata.org/pandas-docs/stable/user_guide/indexing.html#returning-a-view-versus-a-copy\n",
      "/opt/conda/lib/python3.7/site-packages/ipykernel_launcher.py:25: SettingWithCopyWarning: \n",
      "A value is trying to be set on a copy of a slice from a DataFrame\n",
      "\n",
      "See the caveats in the documentation: https://pandas.pydata.org/pandas-docs/stable/user_guide/indexing.html#returning-a-view-versus-a-copy\n"
     ]
    }
   ],
   "source": [
    "#Changing cateogorcial data to 'string' type categorical data\n",
    "\n",
    "heart_data['sex'][heart_data['sex'] == 0] = 'female'\n",
    "heart_data['sex'][heart_data['sex'] == 1] = 'male'\n",
    "\n",
    "heart_data['chest_pain_type'][heart_data['chest_pain_type'] == 1] = 'typical angina'\n",
    "heart_data['chest_pain_type'][heart_data['chest_pain_type'] == 2] = 'atypical angina'\n",
    "heart_data['chest_pain_type'][heart_data['chest_pain_type'] == 3] = 'non-anginal pain'\n",
    "heart_data['chest_pain_type'][heart_data['chest_pain_type'] == 4] = 'asymptomatic'\n",
    "\n",
    "heart_data['fasting_blood_sugar'][heart_data['fasting_blood_sugar'] == 0] = 'lower than 120mg/ml'\n",
    "heart_data['fasting_blood_sugar'][heart_data['fasting_blood_sugar'] == 1] = 'greater than 120mg/ml'\n",
    "\n",
    "heart_data['rest_ecg'][heart_data['rest_ecg'] == 0] = 'normal'\n",
    "heart_data['rest_ecg'][heart_data['rest_ecg'] == 1] = 'ST-T wave abnormality'\n",
    "heart_data['rest_ecg'][heart_data['rest_ecg'] == 2] = 'left ventricular hypertrophy'\n",
    "\n",
    "heart_data['exercise_induced_angina'][heart_data['exercise_induced_angina'] == 0] = 'no'\n",
    "heart_data['exercise_induced_angina'][heart_data['exercise_induced_angina'] == 1] = 'yes'\n",
    "\n",
    "heart_data['st_slope'][heart_data['st_slope'] == 1] = 'upsloping'\n",
    "heart_data['st_slope'][heart_data['st_slope'] == 2] = 'flat'\n",
    "heart_data['st_slope'][heart_data['st_slope'] == 3] = 'downsloping'\n",
    "\n",
    "heart_data['thalassemia'][heart_data['thalassemia'] == 1] = 'normal'\n",
    "heart_data['thalassemia'][heart_data['thalassemia'] == 2] = 'fixed defect'\n",
    "heart_data['thalassemia'][heart_data['thalassemia'] == 3] = 'reversable defect'"
   ]
  },
  {
   "cell_type": "code",
   "execution_count": 10,
   "id": "f84aab03",
   "metadata": {
    "execution": {
     "iopub.execute_input": "2021-09-04T15:07:15.539404Z",
     "iopub.status.busy": "2021-09-04T15:07:15.526545Z",
     "iopub.status.idle": "2021-09-04T15:07:15.543969Z",
     "shell.execute_reply": "2021-09-04T15:07:15.544502Z",
     "shell.execute_reply.started": "2021-09-04T13:46:47.392513Z"
    },
    "papermill": {
     "duration": 0.058493,
     "end_time": "2021-09-04T15:07:15.544684",
     "exception": false,
     "start_time": "2021-09-04T15:07:15.486191",
     "status": "completed"
    },
    "tags": []
   },
   "outputs": [
    {
     "data": {
      "text/html": [
       "<div>\n",
       "<style scoped>\n",
       "    .dataframe tbody tr th:only-of-type {\n",
       "        vertical-align: middle;\n",
       "    }\n",
       "\n",
       "    .dataframe tbody tr th {\n",
       "        vertical-align: top;\n",
       "    }\n",
       "\n",
       "    .dataframe thead th {\n",
       "        text-align: right;\n",
       "    }\n",
       "</style>\n",
       "<table border=\"1\" class=\"dataframe\">\n",
       "  <thead>\n",
       "    <tr style=\"text-align: right;\">\n",
       "      <th></th>\n",
       "      <th>age</th>\n",
       "      <th>sex</th>\n",
       "      <th>chest_pain_type</th>\n",
       "      <th>resting_blood_pressure</th>\n",
       "      <th>cholesterol</th>\n",
       "      <th>fasting_blood_sugar</th>\n",
       "      <th>rest_ecg</th>\n",
       "      <th>max_heart_rate_achieved</th>\n",
       "      <th>exercise_induced_angina</th>\n",
       "      <th>st_depression</th>\n",
       "      <th>st_slope</th>\n",
       "      <th>num_major_vessels</th>\n",
       "      <th>thalassemia</th>\n",
       "      <th>target</th>\n",
       "    </tr>\n",
       "  </thead>\n",
       "  <tbody>\n",
       "    <tr>\n",
       "      <th>0</th>\n",
       "      <td>63</td>\n",
       "      <td>male</td>\n",
       "      <td>non-anginal pain</td>\n",
       "      <td>145</td>\n",
       "      <td>233</td>\n",
       "      <td>greater than 120mg/ml</td>\n",
       "      <td>normal</td>\n",
       "      <td>150</td>\n",
       "      <td>no</td>\n",
       "      <td>2.3</td>\n",
       "      <td>0</td>\n",
       "      <td>0</td>\n",
       "      <td>normal</td>\n",
       "      <td>1</td>\n",
       "    </tr>\n",
       "    <tr>\n",
       "      <th>1</th>\n",
       "      <td>37</td>\n",
       "      <td>male</td>\n",
       "      <td>atypical angina</td>\n",
       "      <td>130</td>\n",
       "      <td>250</td>\n",
       "      <td>lower than 120mg/ml</td>\n",
       "      <td>ST-T wave abnormality</td>\n",
       "      <td>187</td>\n",
       "      <td>no</td>\n",
       "      <td>3.5</td>\n",
       "      <td>0</td>\n",
       "      <td>0</td>\n",
       "      <td>fixed defect</td>\n",
       "      <td>1</td>\n",
       "    </tr>\n",
       "    <tr>\n",
       "      <th>2</th>\n",
       "      <td>41</td>\n",
       "      <td>female</td>\n",
       "      <td>typical angina</td>\n",
       "      <td>130</td>\n",
       "      <td>204</td>\n",
       "      <td>lower than 120mg/ml</td>\n",
       "      <td>normal</td>\n",
       "      <td>172</td>\n",
       "      <td>no</td>\n",
       "      <td>1.4</td>\n",
       "      <td>flat</td>\n",
       "      <td>0</td>\n",
       "      <td>fixed defect</td>\n",
       "      <td>1</td>\n",
       "    </tr>\n",
       "    <tr>\n",
       "      <th>3</th>\n",
       "      <td>56</td>\n",
       "      <td>male</td>\n",
       "      <td>typical angina</td>\n",
       "      <td>120</td>\n",
       "      <td>236</td>\n",
       "      <td>lower than 120mg/ml</td>\n",
       "      <td>ST-T wave abnormality</td>\n",
       "      <td>178</td>\n",
       "      <td>no</td>\n",
       "      <td>0.8</td>\n",
       "      <td>flat</td>\n",
       "      <td>0</td>\n",
       "      <td>fixed defect</td>\n",
       "      <td>1</td>\n",
       "    </tr>\n",
       "    <tr>\n",
       "      <th>4</th>\n",
       "      <td>57</td>\n",
       "      <td>female</td>\n",
       "      <td>0</td>\n",
       "      <td>120</td>\n",
       "      <td>354</td>\n",
       "      <td>lower than 120mg/ml</td>\n",
       "      <td>ST-T wave abnormality</td>\n",
       "      <td>163</td>\n",
       "      <td>yes</td>\n",
       "      <td>0.6</td>\n",
       "      <td>flat</td>\n",
       "      <td>0</td>\n",
       "      <td>fixed defect</td>\n",
       "      <td>1</td>\n",
       "    </tr>\n",
       "  </tbody>\n",
       "</table>\n",
       "</div>"
      ],
      "text/plain": [
       "   age     sex   chest_pain_type  resting_blood_pressure  cholesterol  \\\n",
       "0   63    male  non-anginal pain                     145          233   \n",
       "1   37    male   atypical angina                     130          250   \n",
       "2   41  female    typical angina                     130          204   \n",
       "3   56    male    typical angina                     120          236   \n",
       "4   57  female                 0                     120          354   \n",
       "\n",
       "     fasting_blood_sugar               rest_ecg  max_heart_rate_achieved  \\\n",
       "0  greater than 120mg/ml                 normal                      150   \n",
       "1    lower than 120mg/ml  ST-T wave abnormality                      187   \n",
       "2    lower than 120mg/ml                 normal                      172   \n",
       "3    lower than 120mg/ml  ST-T wave abnormality                      178   \n",
       "4    lower than 120mg/ml  ST-T wave abnormality                      163   \n",
       "\n",
       "  exercise_induced_angina  st_depression st_slope  num_major_vessels  \\\n",
       "0                      no            2.3        0                  0   \n",
       "1                      no            3.5        0                  0   \n",
       "2                      no            1.4     flat                  0   \n",
       "3                      no            0.8     flat                  0   \n",
       "4                     yes            0.6     flat                  0   \n",
       "\n",
       "    thalassemia  target  \n",
       "0        normal       1  \n",
       "1  fixed defect       1  \n",
       "2  fixed defect       1  \n",
       "3  fixed defect       1  \n",
       "4  fixed defect       1  "
      ]
     },
     "execution_count": 10,
     "metadata": {},
     "output_type": "execute_result"
    }
   ],
   "source": [
    "heart_data.head() #displaying head of the .csv file"
   ]
  },
  {
   "cell_type": "markdown",
   "id": "b792f6cb",
   "metadata": {
    "papermill": {
     "duration": 0.034267,
     "end_time": "2021-09-04T15:07:15.613611",
     "exception": false,
     "start_time": "2021-09-04T15:07:15.579344",
     "status": "completed"
    },
    "tags": []
   },
   "source": [
    "# ENCODING CATEGORCIAL DATA"
   ]
  },
  {
   "cell_type": "code",
   "execution_count": 11,
   "id": "e8f29618",
   "metadata": {
    "execution": {
     "iopub.execute_input": "2021-09-04T15:07:15.698890Z",
     "iopub.status.busy": "2021-09-04T15:07:15.698126Z",
     "iopub.status.idle": "2021-09-04T15:07:15.707087Z",
     "shell.execute_reply": "2021-09-04T15:07:15.706516Z",
     "shell.execute_reply.started": "2021-09-04T13:47:33.553982Z"
    },
    "papermill": {
     "duration": 0.059395,
     "end_time": "2021-09-04T15:07:15.707241",
     "exception": false,
     "start_time": "2021-09-04T15:07:15.647846",
     "status": "completed"
    },
    "tags": []
   },
   "outputs": [],
   "source": [
    "heart_data = pd.get_dummies(heart_data, drop_first=True) \n",
    "\n",
    "#changing the categorical data to binary categorical data\n",
    "#removing the first column of the binary categorical data"
   ]
  },
  {
   "cell_type": "code",
   "execution_count": 12,
   "id": "36ebdf85",
   "metadata": {
    "execution": {
     "iopub.execute_input": "2021-09-04T15:07:15.796069Z",
     "iopub.status.busy": "2021-09-04T15:07:15.795104Z",
     "iopub.status.idle": "2021-09-04T15:07:15.800666Z",
     "shell.execute_reply": "2021-09-04T15:07:15.800140Z",
     "shell.execute_reply.started": "2021-09-04T13:47:44.432446Z"
    },
    "papermill": {
     "duration": 0.058856,
     "end_time": "2021-09-04T15:07:15.800803",
     "exception": false,
     "start_time": "2021-09-04T15:07:15.741947",
     "status": "completed"
    },
    "tags": []
   },
   "outputs": [
    {
     "data": {
      "text/html": [
       "<div>\n",
       "<style scoped>\n",
       "    .dataframe tbody tr th:only-of-type {\n",
       "        vertical-align: middle;\n",
       "    }\n",
       "\n",
       "    .dataframe tbody tr th {\n",
       "        vertical-align: top;\n",
       "    }\n",
       "\n",
       "    .dataframe thead th {\n",
       "        text-align: right;\n",
       "    }\n",
       "</style>\n",
       "<table border=\"1\" class=\"dataframe\">\n",
       "  <thead>\n",
       "    <tr style=\"text-align: right;\">\n",
       "      <th></th>\n",
       "      <th>age</th>\n",
       "      <th>resting_blood_pressure</th>\n",
       "      <th>cholesterol</th>\n",
       "      <th>max_heart_rate_achieved</th>\n",
       "      <th>st_depression</th>\n",
       "      <th>num_major_vessels</th>\n",
       "      <th>target</th>\n",
       "      <th>sex_male</th>\n",
       "      <th>chest_pain_type_atypical angina</th>\n",
       "      <th>chest_pain_type_non-anginal pain</th>\n",
       "      <th>chest_pain_type_typical angina</th>\n",
       "      <th>fasting_blood_sugar_lower than 120mg/ml</th>\n",
       "      <th>rest_ecg_left ventricular hypertrophy</th>\n",
       "      <th>rest_ecg_normal</th>\n",
       "      <th>exercise_induced_angina_yes</th>\n",
       "      <th>st_slope_flat</th>\n",
       "      <th>st_slope_upsloping</th>\n",
       "      <th>thalassemia_fixed defect</th>\n",
       "      <th>thalassemia_normal</th>\n",
       "      <th>thalassemia_reversable defect</th>\n",
       "    </tr>\n",
       "  </thead>\n",
       "  <tbody>\n",
       "    <tr>\n",
       "      <th>0</th>\n",
       "      <td>63</td>\n",
       "      <td>145</td>\n",
       "      <td>233</td>\n",
       "      <td>150</td>\n",
       "      <td>2.3</td>\n",
       "      <td>0</td>\n",
       "      <td>1</td>\n",
       "      <td>1</td>\n",
       "      <td>0</td>\n",
       "      <td>1</td>\n",
       "      <td>0</td>\n",
       "      <td>0</td>\n",
       "      <td>0</td>\n",
       "      <td>1</td>\n",
       "      <td>0</td>\n",
       "      <td>0</td>\n",
       "      <td>0</td>\n",
       "      <td>0</td>\n",
       "      <td>1</td>\n",
       "      <td>0</td>\n",
       "    </tr>\n",
       "    <tr>\n",
       "      <th>1</th>\n",
       "      <td>37</td>\n",
       "      <td>130</td>\n",
       "      <td>250</td>\n",
       "      <td>187</td>\n",
       "      <td>3.5</td>\n",
       "      <td>0</td>\n",
       "      <td>1</td>\n",
       "      <td>1</td>\n",
       "      <td>1</td>\n",
       "      <td>0</td>\n",
       "      <td>0</td>\n",
       "      <td>1</td>\n",
       "      <td>0</td>\n",
       "      <td>0</td>\n",
       "      <td>0</td>\n",
       "      <td>0</td>\n",
       "      <td>0</td>\n",
       "      <td>1</td>\n",
       "      <td>0</td>\n",
       "      <td>0</td>\n",
       "    </tr>\n",
       "    <tr>\n",
       "      <th>2</th>\n",
       "      <td>41</td>\n",
       "      <td>130</td>\n",
       "      <td>204</td>\n",
       "      <td>172</td>\n",
       "      <td>1.4</td>\n",
       "      <td>0</td>\n",
       "      <td>1</td>\n",
       "      <td>0</td>\n",
       "      <td>0</td>\n",
       "      <td>0</td>\n",
       "      <td>1</td>\n",
       "      <td>1</td>\n",
       "      <td>0</td>\n",
       "      <td>1</td>\n",
       "      <td>0</td>\n",
       "      <td>1</td>\n",
       "      <td>0</td>\n",
       "      <td>1</td>\n",
       "      <td>0</td>\n",
       "      <td>0</td>\n",
       "    </tr>\n",
       "    <tr>\n",
       "      <th>3</th>\n",
       "      <td>56</td>\n",
       "      <td>120</td>\n",
       "      <td>236</td>\n",
       "      <td>178</td>\n",
       "      <td>0.8</td>\n",
       "      <td>0</td>\n",
       "      <td>1</td>\n",
       "      <td>1</td>\n",
       "      <td>0</td>\n",
       "      <td>0</td>\n",
       "      <td>1</td>\n",
       "      <td>1</td>\n",
       "      <td>0</td>\n",
       "      <td>0</td>\n",
       "      <td>0</td>\n",
       "      <td>1</td>\n",
       "      <td>0</td>\n",
       "      <td>1</td>\n",
       "      <td>0</td>\n",
       "      <td>0</td>\n",
       "    </tr>\n",
       "    <tr>\n",
       "      <th>4</th>\n",
       "      <td>57</td>\n",
       "      <td>120</td>\n",
       "      <td>354</td>\n",
       "      <td>163</td>\n",
       "      <td>0.6</td>\n",
       "      <td>0</td>\n",
       "      <td>1</td>\n",
       "      <td>0</td>\n",
       "      <td>0</td>\n",
       "      <td>0</td>\n",
       "      <td>0</td>\n",
       "      <td>1</td>\n",
       "      <td>0</td>\n",
       "      <td>0</td>\n",
       "      <td>1</td>\n",
       "      <td>1</td>\n",
       "      <td>0</td>\n",
       "      <td>1</td>\n",
       "      <td>0</td>\n",
       "      <td>0</td>\n",
       "    </tr>\n",
       "  </tbody>\n",
       "</table>\n",
       "</div>"
      ],
      "text/plain": [
       "   age  resting_blood_pressure  cholesterol  max_heart_rate_achieved  \\\n",
       "0   63                     145          233                      150   \n",
       "1   37                     130          250                      187   \n",
       "2   41                     130          204                      172   \n",
       "3   56                     120          236                      178   \n",
       "4   57                     120          354                      163   \n",
       "\n",
       "   st_depression  num_major_vessels  target  sex_male  \\\n",
       "0            2.3                  0       1         1   \n",
       "1            3.5                  0       1         1   \n",
       "2            1.4                  0       1         0   \n",
       "3            0.8                  0       1         1   \n",
       "4            0.6                  0       1         0   \n",
       "\n",
       "   chest_pain_type_atypical angina  chest_pain_type_non-anginal pain  \\\n",
       "0                                0                                 1   \n",
       "1                                1                                 0   \n",
       "2                                0                                 0   \n",
       "3                                0                                 0   \n",
       "4                                0                                 0   \n",
       "\n",
       "   chest_pain_type_typical angina  fasting_blood_sugar_lower than 120mg/ml  \\\n",
       "0                               0                                        0   \n",
       "1                               0                                        1   \n",
       "2                               1                                        1   \n",
       "3                               1                                        1   \n",
       "4                               0                                        1   \n",
       "\n",
       "   rest_ecg_left ventricular hypertrophy  rest_ecg_normal  \\\n",
       "0                                      0                1   \n",
       "1                                      0                0   \n",
       "2                                      0                1   \n",
       "3                                      0                0   \n",
       "4                                      0                0   \n",
       "\n",
       "   exercise_induced_angina_yes  st_slope_flat  st_slope_upsloping  \\\n",
       "0                            0              0                   0   \n",
       "1                            0              0                   0   \n",
       "2                            0              1                   0   \n",
       "3                            0              1                   0   \n",
       "4                            1              1                   0   \n",
       "\n",
       "   thalassemia_fixed defect  thalassemia_normal  thalassemia_reversable defect  \n",
       "0                         0                   1                              0  \n",
       "1                         1                   0                              0  \n",
       "2                         1                   0                              0  \n",
       "3                         1                   0                              0  \n",
       "4                         1                   0                              0  "
      ]
     },
     "execution_count": 12,
     "metadata": {},
     "output_type": "execute_result"
    }
   ],
   "source": [
    "heart_data.head() #displaying head of the .csv file"
   ]
  },
  {
   "cell_type": "markdown",
   "id": "1c87c28e",
   "metadata": {
    "papermill": {
     "duration": 0.03636,
     "end_time": "2021-09-04T15:07:15.872907",
     "exception": false,
     "start_time": "2021-09-04T15:07:15.836547",
     "status": "completed"
    },
    "tags": []
   },
   "source": [
    "# SPLITTING THE DATASET INTO TRAIN AND TEST DATA"
   ]
  },
  {
   "cell_type": "code",
   "execution_count": 13,
   "id": "00768dd1",
   "metadata": {
    "execution": {
     "iopub.execute_input": "2021-09-04T15:07:15.950503Z",
     "iopub.status.busy": "2021-09-04T15:07:15.949838Z",
     "iopub.status.idle": "2021-09-04T15:07:15.974490Z",
     "shell.execute_reply": "2021-09-04T15:07:15.975022Z",
     "shell.execute_reply.started": "2021-09-04T13:48:20.886719Z"
    },
    "papermill": {
     "duration": 0.066539,
     "end_time": "2021-09-04T15:07:15.975242",
     "exception": false,
     "start_time": "2021-09-04T15:07:15.908703",
     "status": "completed"
    },
    "tags": []
   },
   "outputs": [],
   "source": [
    "# Splitting the dataset into train and test datasets\n",
    "# 80% Train Data + 20% Test Data\n",
    "\n",
    "from sklearn.model_selection import train_test_split\n",
    "X_train, X_test, y_train, y_test = train_test_split(heart_data.drop('target', 1), heart_data['target'], test_size = .2)"
   ]
  },
  {
   "cell_type": "markdown",
   "id": "12a1a786",
   "metadata": {
    "papermill": {
     "duration": 0.035641,
     "end_time": "2021-09-04T15:07:16.046524",
     "exception": false,
     "start_time": "2021-09-04T15:07:16.010883",
     "status": "completed"
    },
    "tags": []
   },
   "source": [
    "# CREATING THE ANN"
   ]
  },
  {
   "cell_type": "code",
   "execution_count": 14,
   "id": "e8128fea",
   "metadata": {
    "execution": {
     "iopub.execute_input": "2021-09-04T15:07:16.121369Z",
     "iopub.status.busy": "2021-09-04T15:07:16.120647Z",
     "iopub.status.idle": "2021-09-04T15:07:16.271788Z",
     "shell.execute_reply": "2021-09-04T15:07:16.271032Z",
     "shell.execute_reply.started": "2021-09-04T14:08:38.358407Z"
    },
    "papermill": {
     "duration": 0.189951,
     "end_time": "2021-09-04T15:07:16.271976",
     "exception": false,
     "start_time": "2021-09-04T15:07:16.082025",
     "status": "completed"
    },
    "tags": []
   },
   "outputs": [],
   "source": [
    "model = Sequential([Dense(units=10,input_shape=(19,),activation='relu'),\n",
    "                    Dense(units=20,activation='relu'),\n",
    "                    Dense(units=20,activation='relu'),\n",
    "                    keras.layers.Dropout(0.5),\n",
    "                    Dense(units=30,activation='relu'),\n",
    "                    keras.layers.Dropout(0.5),\n",
    "                    Dense(units=35,activation='relu'),\n",
    "                    keras.layers.Dropout(0.5),\n",
    "                    Dense(units=2,activation='sigmoid')])"
   ]
  },
  {
   "cell_type": "code",
   "execution_count": 15,
   "id": "b747bf36",
   "metadata": {
    "execution": {
     "iopub.execute_input": "2021-09-04T15:07:16.352571Z",
     "iopub.status.busy": "2021-09-04T15:07:16.351722Z",
     "iopub.status.idle": "2021-09-04T15:07:16.359784Z",
     "shell.execute_reply": "2021-09-04T15:07:16.359104Z",
     "shell.execute_reply.started": "2021-09-04T13:49:34.767466Z"
    },
    "papermill": {
     "duration": 0.049619,
     "end_time": "2021-09-04T15:07:16.359929",
     "exception": false,
     "start_time": "2021-09-04T15:07:16.310310",
     "status": "completed"
    },
    "tags": []
   },
   "outputs": [
    {
     "name": "stdout",
     "output_type": "stream",
     "text": [
      "Model: \"sequential\"\n",
      "_________________________________________________________________\n",
      "Layer (type)                 Output Shape              Param #   \n",
      "=================================================================\n",
      "dense (Dense)                (None, 10)                200       \n",
      "_________________________________________________________________\n",
      "dense_1 (Dense)              (None, 20)                220       \n",
      "_________________________________________________________________\n",
      "dense_2 (Dense)              (None, 20)                420       \n",
      "_________________________________________________________________\n",
      "dropout (Dropout)            (None, 20)                0         \n",
      "_________________________________________________________________\n",
      "dense_3 (Dense)              (None, 30)                630       \n",
      "_________________________________________________________________\n",
      "dropout_1 (Dropout)          (None, 30)                0         \n",
      "_________________________________________________________________\n",
      "dense_4 (Dense)              (None, 35)                1085      \n",
      "_________________________________________________________________\n",
      "dropout_2 (Dropout)          (None, 35)                0         \n",
      "_________________________________________________________________\n",
      "dense_5 (Dense)              (None, 2)                 72        \n",
      "=================================================================\n",
      "Total params: 2,627\n",
      "Trainable params: 2,627\n",
      "Non-trainable params: 0\n",
      "_________________________________________________________________\n"
     ]
    }
   ],
   "source": [
    "#Getting a gist about the neural network just created\n",
    "\n",
    "model.summary()"
   ]
  },
  {
   "cell_type": "code",
   "execution_count": 16,
   "id": "3d49cdd5",
   "metadata": {
    "execution": {
     "iopub.execute_input": "2021-09-04T15:07:16.443551Z",
     "iopub.status.busy": "2021-09-04T15:07:16.442825Z",
     "iopub.status.idle": "2021-09-04T15:07:16.938445Z",
     "shell.execute_reply": "2021-09-04T15:07:16.938959Z",
     "shell.execute_reply.started": "2021-09-04T13:49:43.287236Z"
    },
    "papermill": {
     "duration": 0.541029,
     "end_time": "2021-09-04T15:07:16.939191",
     "exception": false,
     "start_time": "2021-09-04T15:07:16.398162",
     "status": "completed"
    },
    "tags": []
   },
   "outputs": [
    {
     "data": {
      "image/png": "[encoded data removed]",
      "text/plain": [
       "<IPython.core.display.Image object>"
      ]
     },
     "execution_count": 16,
     "metadata": {},
     "output_type": "execute_result"
    }
   ],
   "source": [
    "#Flowchart Representation of the Neural Netwrok just created\n",
    "\n",
    "tf.keras.utils.plot_model(model, to_file='model.png', show_shapes=True, show_layer_names=True)"
   ]
  },
  {
   "cell_type": "code",
   "execution_count": 17,
   "id": "d0dbe821",
   "metadata": {
    "execution": {
     "iopub.execute_input": "2021-09-04T15:07:17.033024Z",
     "iopub.status.busy": "2021-09-04T15:07:17.030646Z",
     "iopub.status.idle": "2021-09-04T15:07:17.040790Z",
     "shell.execute_reply": "2021-09-04T15:07:17.040238Z",
     "shell.execute_reply.started": "2021-09-04T14:08:46.812235Z"
    },
    "papermill": {
     "duration": 0.063261,
     "end_time": "2021-09-04T15:07:17.040999",
     "exception": false,
     "start_time": "2021-09-04T15:07:16.977738",
     "status": "completed"
    },
    "tags": []
   },
   "outputs": [],
   "source": [
    "#Getting the Neural Network ready by setting hyperparameters like Learning Rate, Loss Function and Optimizer\n",
    "\n",
    "model.compile(optimizer=Adam(learning_rate=0.0001),loss='sparse_categorical_crossentropy',metrics=['accuracy'])"
   ]
  },
  {
   "cell_type": "markdown",
   "id": "04bd3821",
   "metadata": {
    "papermill": {
     "duration": 0.037252,
     "end_time": "2021-09-04T15:07:17.116839",
     "exception": false,
     "start_time": "2021-09-04T15:07:17.079587",
     "status": "completed"
    },
    "tags": []
   },
   "source": [
    "# STARTING THE TRAINING"
   ]
  },
  {
   "cell_type": "code",
   "execution_count": 18,
   "id": "35f50fb5",
   "metadata": {
    "execution": {
     "iopub.execute_input": "2021-09-04T15:07:17.196184Z",
     "iopub.status.busy": "2021-09-04T15:07:17.195482Z",
     "iopub.status.idle": "2021-09-04T15:09:05.582700Z",
     "shell.execute_reply": "2021-09-04T15:09:05.583284Z",
     "shell.execute_reply.started": "2021-09-04T14:09:02.828588Z"
    },
    "papermill": {
     "duration": 108.428388,
     "end_time": "2021-09-04T15:09:05.583499",
     "exception": false,
     "start_time": "2021-09-04T15:07:17.155111",
     "status": "completed"
    },
    "tags": []
   },
   "outputs": [],
   "source": [
    "''' Starting the training of the ANN by initializing Feature Train Set and Label Train Set,\n",
    "    batch size(No. of data-points that will go at once into the ANN and loss would be evaluated on them followed by back propagation), \n",
    "    number of epochs(No. of times the whole dataset would pass through the ANN),\n",
    "    shuffle=True(so that ANN does not learn any unwanted patterns from the dataset)\n",
    "'''\n",
    "\n",
    "history = model.fit(\n",
    "      x=X_train\n",
    "    , y=y_train\n",
    "    , batch_size=30\n",
    "    , epochs=8000\n",
    "    , shuffle=True\n",
    "    , verbose=0\n",
    ")"
   ]
  },
  {
   "cell_type": "markdown",
   "id": "d42f4712",
   "metadata": {
    "papermill": {
     "duration": 0.03777,
     "end_time": "2021-09-04T15:09:05.659586",
     "exception": false,
     "start_time": "2021-09-04T15:09:05.621816",
     "status": "completed"
    },
    "tags": []
   },
   "source": [
    "# TRANING GRAPHS"
   ]
  },
  {
   "cell_type": "code",
   "execution_count": 19,
   "id": "feedb918",
   "metadata": {
    "execution": {
     "iopub.execute_input": "2021-09-04T15:09:05.759286Z",
     "iopub.status.busy": "2021-09-04T15:09:05.758574Z",
     "iopub.status.idle": "2021-09-04T15:09:05.957933Z",
     "shell.execute_reply": "2021-09-04T15:09:05.957297Z",
     "shell.execute_reply.started": "2021-09-04T14:15:47.902475Z"
    },
    "papermill": {
     "duration": 0.260486,
     "end_time": "2021-09-04T15:09:05.958088",
     "exception": false,
     "start_time": "2021-09-04T15:09:05.697602",
     "status": "completed"
    },
    "tags": []
   },
   "outputs": [
    {
     "data": {
      "image/png": "[encoded data removed]",
      "text/plain": [
       "<Figure size 432x288 with 1 Axes>"
      ]
     },
     "metadata": {
      "needs_background": "light"
     },
     "output_type": "display_data"
    }
   ],
   "source": [
    "# summarize history for accuracy\n",
    "plt.plot(history.history['accuracy'])\n",
    "plt.title('model accuracy')\n",
    "plt.ylabel('accuracy')\n",
    "plt.xlabel('epoch')\n",
    "plt.legend(['train', 'test'], loc='upper left')\n",
    "plt.show()"
   ]
  },
  {
   "cell_type": "code",
   "execution_count": 20,
   "id": "af890472",
   "metadata": {
    "execution": {
     "iopub.execute_input": "2021-09-04T15:09:06.066804Z",
     "iopub.status.busy": "2021-09-04T15:09:06.061461Z",
     "iopub.status.idle": "2021-09-04T15:09:06.222244Z",
     "shell.execute_reply": "2021-09-04T15:09:06.221654Z",
     "shell.execute_reply.started": "2021-09-04T14:16:07.873262Z"
    },
    "papermill": {
     "duration": 0.225641,
     "end_time": "2021-09-04T15:09:06.222387",
     "exception": false,
     "start_time": "2021-09-04T15:09:05.996746",
     "status": "completed"
    },
    "tags": []
   },
   "outputs": [
    {
     "data": {
      "image/png": "[encoded data removed]",
      "text/plain": [
       "<Figure size 432x288 with 1 Axes>"
      ]
     },
     "metadata": {
      "needs_background": "light"
     },
     "output_type": "display_data"
    }
   ],
   "source": [
    "# summarize history for loss\n",
    "plt.plot(history.history['loss'])\n",
    "plt.title('model loss')\n",
    "plt.ylabel('loss')\n",
    "plt.xlabel('epoch')\n",
    "plt.legend(['train', 'test'], loc='upper left')\n",
    "plt.show()"
   ]
  },
  {
   "cell_type": "markdown",
   "id": "c9149d23",
   "metadata": {
    "papermill": {
     "duration": 0.040651,
     "end_time": "2021-09-04T15:09:06.306419",
     "exception": false,
     "start_time": "2021-09-04T15:09:06.265768",
     "status": "completed"
    },
    "tags": []
   },
   "source": [
    "# CREATING CONFUSION MATRIX"
   ]
  },
  {
   "cell_type": "code",
   "execution_count": 21,
   "id": "6d0b0fc5",
   "metadata": {
    "execution": {
     "iopub.execute_input": "2021-09-04T15:09:06.397292Z",
     "iopub.status.busy": "2021-09-04T15:09:06.396614Z",
     "iopub.status.idle": "2021-09-04T15:09:06.399949Z",
     "shell.execute_reply": "2021-09-04T15:09:06.400494Z",
     "shell.execute_reply.started": "2021-09-04T13:58:07.138119Z"
    },
    "papermill": {
     "duration": 0.05469,
     "end_time": "2021-09-04T15:09:06.400666",
     "exception": false,
     "start_time": "2021-09-04T15:09:06.345976",
     "status": "completed"
    },
    "tags": []
   },
   "outputs": [],
   "source": [
    "#Function for plotting Confusion Matrix\n",
    "\n",
    "def plot_confusion_matrix(cm, classes,\n",
    "                        normalize=False,\n",
    "                        title='Confusion matrix',\n",
    "                        cmap=plt.cm.Blues):\n",
    "    \"\"\"\n",
    "    This function prints and plots the confusion matrix.\n",
    "    Normalization can be applied by setting `normalize=True`.\n",
    "    \"\"\"\n",
    "    plt.imshow(cm, interpolation='nearest', cmap=cmap)\n",
    "    plt.title(title)\n",
    "    plt.colorbar()\n",
    "    tick_marks = np.arange(len(classes))\n",
    "    plt.xticks(tick_marks, classes, rotation=45)\n",
    "    plt.yticks(tick_marks, classes)\n",
    "\n",
    "    if normalize:\n",
    "        cm = cm.astype('float') / cm.sum(axis=1)[:, np.newaxis]\n",
    "        print(\"Normalized confusion matrix\")\n",
    "    else:\n",
    "        print('Confusion matrix, without normalization')\n",
    "\n",
    "    print(cm)\n",
    "\n",
    "    thresh = cm.max() / 2.\n",
    "    for i, j in itertools.product(range(cm.shape[0]), range(cm.shape[1])):\n",
    "        plt.text(j, i, cm[i, j],\n",
    "            horizontalalignment=\"center\",\n",
    "            color=\"white\" if cm[i, j] > thresh else \"black\")\n",
    "\n",
    "    plt.tight_layout()\n",
    "    plt.ylabel('True label')\n",
    "    plt.xlabel('Predicted label')"
   ]
  },
  {
   "cell_type": "markdown",
   "id": "292ca850",
   "metadata": {
    "papermill": {
     "duration": 0.03884,
     "end_time": "2021-09-04T15:09:06.479719",
     "exception": false,
     "start_time": "2021-09-04T15:09:06.440879",
     "status": "completed"
    },
    "tags": []
   },
   "source": [
    "# MAKING PREDICTIONS"
   ]
  },
  {
   "cell_type": "code",
   "execution_count": 22,
   "id": "fab57f3f",
   "metadata": {
    "execution": {
     "iopub.execute_input": "2021-09-04T15:09:06.564149Z",
     "iopub.status.busy": "2021-09-04T15:09:06.563363Z",
     "iopub.status.idle": "2021-09-04T15:09:06.721739Z",
     "shell.execute_reply": "2021-09-04T15:09:06.722268Z",
     "shell.execute_reply.started": "2021-09-04T14:16:14.837547Z"
    },
    "papermill": {
     "duration": 0.203667,
     "end_time": "2021-09-04T15:09:06.722460",
     "exception": false,
     "start_time": "2021-09-04T15:09:06.518793",
     "status": "completed"
    },
    "tags": []
   },
   "outputs": [],
   "source": [
    "#Making predictions on the unknown Test Dataset batch-by-batch\n",
    "\n",
    "predictions = model.predict(\n",
    "      x=X_test\n",
    "    , batch_size=30\n",
    "    , verbose=0\n",
    ")"
   ]
  },
  {
   "cell_type": "code",
   "execution_count": 23,
   "id": "87c2e609",
   "metadata": {
    "execution": {
     "iopub.execute_input": "2021-09-04T15:09:06.807104Z",
     "iopub.status.busy": "2021-09-04T15:09:06.806446Z",
     "iopub.status.idle": "2021-09-04T15:09:06.810066Z",
     "shell.execute_reply": "2021-09-04T15:09:06.809515Z",
     "shell.execute_reply.started": "2021-09-04T14:16:17.89722Z"
    },
    "papermill": {
     "duration": 0.04832,
     "end_time": "2021-09-04T15:09:06.810226",
     "exception": false,
     "start_time": "2021-09-04T15:09:06.761906",
     "status": "completed"
    },
    "tags": []
   },
   "outputs": [],
   "source": [
    "#Rounding-off the predictions to 0s and 1s\n",
    "\n",
    "rounded_predictions = np.argmax(predictions, axis=-1)"
   ]
  },
  {
   "cell_type": "code",
   "execution_count": 24,
   "id": "fe105287",
   "metadata": {
    "execution": {
     "iopub.execute_input": "2021-09-04T15:09:06.897832Z",
     "iopub.status.busy": "2021-09-04T15:09:06.897191Z",
     "iopub.status.idle": "2021-09-04T15:09:06.900896Z",
     "shell.execute_reply": "2021-09-04T15:09:06.900345Z",
     "shell.execute_reply.started": "2021-09-04T14:16:20.257306Z"
    },
    "papermill": {
     "duration": 0.050348,
     "end_time": "2021-09-04T15:09:06.901065",
     "exception": false,
     "start_time": "2021-09-04T15:09:06.850717",
     "status": "completed"
    },
    "tags": []
   },
   "outputs": [],
   "source": [
    "#Feeding parameters in the CM Function\n",
    "\n",
    "cm = confusion_matrix(y_true=y_test, y_pred=rounded_predictions)"
   ]
  },
  {
   "cell_type": "code",
   "execution_count": 25,
   "id": "f43cf3eb",
   "metadata": {
    "execution": {
     "iopub.execute_input": "2021-09-04T15:09:06.985318Z",
     "iopub.status.busy": "2021-09-04T15:09:06.984639Z",
     "iopub.status.idle": "2021-09-04T15:09:06.987708Z",
     "shell.execute_reply": "2021-09-04T15:09:06.987231Z",
     "shell.execute_reply.started": "2021-09-04T14:16:24.852213Z"
    },
    "papermill": {
     "duration": 0.04736,
     "end_time": "2021-09-04T15:09:06.987844",
     "exception": false,
     "start_time": "2021-09-04T15:09:06.940484",
     "status": "completed"
    },
    "tags": []
   },
   "outputs": [],
   "source": [
    "#Labels for the CM\n",
    "\n",
    "cm_plot_labels = ['No Heart Disease','Heart Disease']"
   ]
  },
  {
   "cell_type": "markdown",
   "id": "cd607c0a",
   "metadata": {
    "papermill": {
     "duration": 0.038986,
     "end_time": "2021-09-04T15:09:07.066225",
     "exception": false,
     "start_time": "2021-09-04T15:09:07.027239",
     "status": "completed"
    },
    "tags": []
   },
   "source": [
    "# PLOTTING THE CONFUSION MATRIX"
   ]
  },
  {
   "cell_type": "code",
   "execution_count": 26,
   "id": "41ab5fa6",
   "metadata": {
    "execution": {
     "iopub.execute_input": "2021-09-04T15:09:07.178698Z",
     "iopub.status.busy": "2021-09-04T15:09:07.160361Z",
     "iopub.status.idle": "2021-09-04T15:09:07.437865Z",
     "shell.execute_reply": "2021-09-04T15:09:07.437275Z",
     "shell.execute_reply.started": "2021-09-04T14:16:27.31732Z"
    },
    "papermill": {
     "duration": 0.331132,
     "end_time": "2021-09-04T15:09:07.438027",
     "exception": false,
     "start_time": "2021-09-04T15:09:07.106895",
     "status": "completed"
    },
    "tags": []
   },
   "outputs": [
    {
     "name": "stdout",
     "output_type": "stream",
     "text": [
      "Confusion matrix, without normalization\n",
      "[[24  3]\n",
      " [ 5 29]]\n"
     ]
    },
    {
     "data": {
      "image/png": "[encoded data removed]",
      "text/plain": [
       "<Figure size 432x288 with 2 Axes>"
      ]
     },
     "metadata": {
      "needs_background": "light"
     },
     "output_type": "display_data"
    }
   ],
   "source": [
    "#Plotting the CM\n",
    "\n",
    "plot_confusion_matrix(cm=cm, classes=cm_plot_labels, title='Confusion Matrix')"
   ]
  },
  {
   "cell_type": "markdown",
   "id": "618f3996",
   "metadata": {
    "papermill": {
     "duration": 0.040598,
     "end_time": "2021-09-04T15:09:07.519533",
     "exception": false,
     "start_time": "2021-09-04T15:09:07.478935",
     "status": "completed"
    },
    "tags": []
   },
   "source": [
    "# SENSTIVITY"
   ]
  },
  {
   "cell_type": "code",
   "execution_count": 27,
   "id": "b2f6456e",
   "metadata": {
    "execution": {
     "iopub.execute_input": "2021-09-04T15:09:07.609034Z",
     "iopub.status.busy": "2021-09-04T15:09:07.608071Z",
     "iopub.status.idle": "2021-09-04T15:09:07.612586Z",
     "shell.execute_reply": "2021-09-04T15:09:07.612057Z",
     "shell.execute_reply.started": "2021-09-04T14:20:54.097896Z"
    },
    "papermill": {
     "duration": 0.05238,
     "end_time": "2021-09-04T15:09:07.612728",
     "exception": false,
     "start_time": "2021-09-04T15:09:07.560348",
     "status": "completed"
    },
    "tags": []
   },
   "outputs": [
    {
     "data": {
      "text/plain": [
       "85.29411764705883"
      ]
     },
     "execution_count": 27,
     "metadata": {},
     "output_type": "execute_result"
    }
   ],
   "source": [
    "#Calculating Senstivity (Basically, this is the metric that is really important for medical diagnosis)\n",
    "#Sensitivity is a measure of the proportion of actual positive cases that got predicted as positive (or true positive).\n",
    "#Senstivity = True Positives / (True Positives + False Negatives)\n",
    "\n",
    "senstivity = cm[1][1]/(cm[1][1]+cm[1][0])\n",
    "senstivity * 100"
   ]
  },
  {
   "cell_type": "markdown",
   "id": "a8a9b67f",
   "metadata": {
    "papermill": {
     "duration": 0.040737,
     "end_time": "2021-09-04T15:09:07.694330",
     "exception": false,
     "start_time": "2021-09-04T15:09:07.653593",
     "status": "completed"
    },
    "tags": []
   },
   "source": [
    "# SPECIFICITY"
   ]
  },
  {
   "cell_type": "code",
   "execution_count": 28,
   "id": "7069b092",
   "metadata": {
    "execution": {
     "iopub.execute_input": "2021-09-04T15:09:07.779909Z",
     "iopub.status.busy": "2021-09-04T15:09:07.779292Z",
     "iopub.status.idle": "2021-09-04T15:09:07.785642Z",
     "shell.execute_reply": "2021-09-04T15:09:07.786164Z",
     "shell.execute_reply.started": "2021-09-04T14:20:46.10712Z"
    },
    "papermill": {
     "duration": 0.05083,
     "end_time": "2021-09-04T15:09:07.786338",
     "exception": false,
     "start_time": "2021-09-04T15:09:07.735508",
     "status": "completed"
    },
    "tags": []
   },
   "outputs": [
    {
     "data": {
      "text/plain": [
       "88.88888888888889"
      ]
     },
     "execution_count": 28,
     "metadata": {},
     "output_type": "execute_result"
    }
   ],
   "source": [
    "#Calculating Specificity\n",
    "#Specificity is defined as the proportion of actual negatives, which got predicted as the negative (or true negative).\n",
    "#Specificity = True Negatives / (True Negatives + False Positives)\n",
    "\n",
    "specificity = cm[0][0]/(cm[0][0]+cm[0][1])\n",
    "specificity * 100"
   ]
  },
  {
   "cell_type": "markdown",
   "id": "0484a36a",
   "metadata": {
    "papermill": {
     "duration": 0.040924,
     "end_time": "2021-09-04T15:09:07.868380",
     "exception": false,
     "start_time": "2021-09-04T15:09:07.827456",
     "status": "completed"
    },
    "tags": []
   },
   "source": [
    "**ACCORDING TO SENSTIVITY(RECALL), THE MODEL HAS DONE PRETTY WELL ON A MEDICAL RELATED DATASET AND HAS LOW CHANCES OF GIVING FALSE NEGATIVES AS PREDCITION RESULTS**"
   ]
  },
  {
   "cell_type": "markdown",
   "id": "0ab80a72",
   "metadata": {
    "papermill": {
     "duration": 0.040822,
     "end_time": "2021-09-04T15:09:07.950428",
     "exception": false,
     "start_time": "2021-09-04T15:09:07.909606",
     "status": "completed"
    },
    "tags": []
   },
   "source": []
  },
  {
   "cell_type": "markdown",
   "id": "5d3bc72e",
   "metadata": {
    "papermill": {
     "duration": 0.041866,
     "end_time": "2021-09-04T15:09:08.033541",
     "exception": false,
     "start_time": "2021-09-04T15:09:07.991675",
     "status": "completed"
    },
    "tags": []
   },
   "source": []
  },
  {
   "cell_type": "markdown",
   "id": "5978111d",
   "metadata": {
    "papermill": {
     "duration": 0.040794,
     "end_time": "2021-09-04T15:09:08.115651",
     "exception": false,
     "start_time": "2021-09-04T15:09:08.074857",
     "status": "completed"
    },
    "tags": []
   },
   "source": []
  }
 ],
 "metadata": {
  "kernelspec": {
   "display_name": "Python 3",
   "language": "python",
   "name": "python3"
  },
  "language_info": {
   "codemirror_mode": {
    "name": "ipython",
    "version": 3
   },
   "file_extension": ".py",
   "mimetype": "text/x-python",
   "name": "python",
   "nbconvert_exporter": "python",
   "pygments_lexer": "ipython3",
   "version": "3.7.10"
  },
  "papermill": {
   "default_parameters": {},
   "duration": 130.866894,
   "end_time": "2021-09-04T15:09:10.416240",
   "environment_variables": {},
   "exception": null,
   "input_path": "__notebook__.ipynb",
   "output_path": "__notebook__.ipynb",
   "parameters": {},
   "start_time": "2021-09-04T15:06:59.549346",
   "version": "2.3.3"
  }
 },
 "nbformat": 4,
 "nbformat_minor": 5
}
